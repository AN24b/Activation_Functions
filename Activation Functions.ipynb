{
 "cells": [
  {
   "cell_type": "markdown",
   "id": "3a6f5ebb",
   "metadata": {},
   "source": [
    "# 1. Sigmoid Activation Function"
   ]
  },
  {
   "cell_type": "code",
   "execution_count": 1,
   "id": "199d6d33",
   "metadata": {},
   "outputs": [
    {
     "name": "stdout",
     "output_type": "stream",
     "text": [
      "Sigmoid(0.5) = 0.6224593312018546\n"
     ]
    }
   ],
   "source": [
    "import math\n",
    "\n",
    "# Sigmoid Activation Function\n",
    "def sigmoid(x):\n",
    "    return 1 / (1 + math.exp(-x))\n",
    "\n",
    "# Example usage\n",
    "x = 0.5\n",
    "result = sigmoid(x)\n",
    "print(f\"Sigmoid({x}) = {result}\")"
   ]
  },
  {
   "cell_type": "markdown",
   "id": "f7f0ba87",
   "metadata": {},
   "source": [
    "# 2. ReLU (Rectified Linear Unit)"
   ]
  },
  {
   "cell_type": "code",
   "execution_count": 2,
   "id": "034414a1",
   "metadata": {},
   "outputs": [
    {
     "name": "stdout",
     "output_type": "stream",
     "text": [
      "ReLU(-1.5) = 0\n"
     ]
    }
   ],
   "source": [
    "# ReLU Activation Function\n",
    "def relu(x):\n",
    "    return max(0, x)\n",
    "\n",
    "# Example usage\n",
    "x = -1.5\n",
    "result = relu(x)\n",
    "print(f\"ReLU({x}) = {result}\")"
   ]
  },
  {
   "cell_type": "markdown",
   "id": "c0591c72",
   "metadata": {},
   "source": [
    "# 3. Tanh (Hyperbolic Tangent)"
   ]
  },
  {
   "cell_type": "code",
   "execution_count": 3,
   "id": "48046e9f",
   "metadata": {},
   "outputs": [
    {
     "name": "stdout",
     "output_type": "stream",
     "text": [
      "Tanh(0.5) = 0.4621171572600098\n"
     ]
    }
   ],
   "source": [
    "import math\n",
    "\n",
    "# Tanh Activation Function\n",
    "def tanh(x):\n",
    "    return (math.exp(x) - math.exp(-x)) / (math.exp(x) + math.exp(-x))\n",
    "\n",
    "# Example usage\n",
    "x = 0.5\n",
    "result = tanh(x)\n",
    "print(f\"Tanh({x}) = {result}\")"
   ]
  },
  {
   "cell_type": "markdown",
   "id": "a4ed27d1",
   "metadata": {},
   "source": [
    "# 4. Softmax"
   ]
  },
  {
   "cell_type": "code",
   "execution_count": 4,
   "id": "9982d24e",
   "metadata": {},
   "outputs": [
    {
     "name": "stdout",
     "output_type": "stream",
     "text": [
      "Softmax([1.0, 2.0, 3.0]) = [0.09003057317038046, 0.24472847105479767, 0.6652409557748219]\n"
     ]
    }
   ],
   "source": [
    "import math\n",
    "\n",
    "# Softmax Activation Function\n",
    "def softmax(x_list):\n",
    "    exp_values = [math.exp(i) for i in x_list]\n",
    "    sum_exp = sum(exp_values)\n",
    "    return [i / sum_exp for i in exp_values]\n",
    "\n",
    "# Example usage\n",
    "x_list = [1.0, 2.0, 3.0]\n",
    "result = softmax(x_list)\n",
    "print(f\"Softmax({x_list}) = {result}\")"
   ]
  },
  {
   "cell_type": "markdown",
   "id": "1d03118b",
   "metadata": {},
   "source": [
    "\"\"\"Sigmoid: Squashes the input to a value between 0 and 1.\n",
    "ReLU: Outputs the input if it's positive, or 0 otherwise.\n",
    "Tanh: Maps input values between -1 and 1.\n",
    "Softmax: Converts a list of numbers into probabilities that sum up to 1.\"\"\""
   ]
  }
 ],
 "metadata": {
  "kernelspec": {
   "display_name": "Python 3 (ipykernel)",
   "language": "python",
   "name": "python3"
  },
  "language_info": {
   "codemirror_mode": {
    "name": "ipython",
    "version": 3
   },
   "file_extension": ".py",
   "mimetype": "text/x-python",
   "name": "python",
   "nbconvert_exporter": "python",
   "pygments_lexer": "ipython3",
   "version": "3.11.5"
  }
 },
 "nbformat": 4,
 "nbformat_minor": 5
}
